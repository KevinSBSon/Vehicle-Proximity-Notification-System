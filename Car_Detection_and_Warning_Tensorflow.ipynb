{
  "cells": [
    {
      "cell_type": "markdown",
      "metadata": {
        "id": "view-in-github",
        "colab_type": "text"
      },
      "source": [
        "<a href=\"https://colab.research.google.com/github/KevinSBSon/Vehicle-Proximity-Warning-System/blob/main/Car_Detection_and_Warning_Tensorflow.ipynb\" target=\"_parent\"><img src=\"https://colab.research.google.com/assets/colab-badge.svg\" alt=\"Open In Colab\"/></a>"
      ]
    },
    {
      "cell_type": "markdown",
      "source": [
        "#Vehicle Proximity Warning System"
      ],
      "metadata": {
        "id": "Xox_edS1bsWR"
      },
      "id": "Xox_edS1bsWR"
    },
    {
      "cell_type": "markdown",
      "source": [
        "###Import Packages"
      ],
      "metadata": {
        "id": "JOlizguCb14O"
      },
      "id": "JOlizguCb14O"
    },
    {
      "cell_type": "code",
      "execution_count": null,
      "id": "a571b441",
      "metadata": {
        "id": "a571b441"
      },
      "outputs": [],
      "source": [
        "import cv2\n",
        "import glob\n",
        "import argparse\n",
        "import os\n",
        "import matplotlib.pyplot as plt\n",
        "from matplotlib.pyplot import imshow\n",
        "import scipy.io\n",
        "import scipy.misc\n",
        "import numpy as np\n",
        "import pandas as pd\n",
        "import PIL\n",
        "from PIL import ImageFont, ImageDraw, Image\n",
        "import tensorflow as tf\n",
        "from tensorflow.python.framework.ops import EagerTensor\n",
        "from tensorflow.keras.models import load_model\n",
        "from yad2k.models.keras_yolo import yolo_head\n",
        "from yad2k.utils.utils import draw_boxes, get_colors_for_classes, scale_boxes, read_classes, read_anchors, preprocess_image\n",
        "%matplotlib inline"
      ]
    },
    {
      "cell_type": "markdown",
      "source": [
        "###Implement YOLO filter boxes"
      ],
      "metadata": {
        "id": "GhLK1_0jb-ed"
      },
      "id": "GhLK1_0jb-ed"
    },
    {
      "cell_type": "code",
      "execution_count": null,
      "id": "65f3af42",
      "metadata": {
        "id": "65f3af42"
      },
      "outputs": [],
      "source": [
        "#Filter boxes by a threshold value\n",
        "\n",
        "def yolo_filter_boxes(boxes, box_confidence, box_class_probs, threshold = .6):\n",
        "    \n",
        "    #Compute box scores\n",
        "    box_scores = box_confidence*box_class_probs\n",
        "\n",
        "    #Find the box_classes using the max box_scores\n",
        "    box_classes = tf.math.argmax(box_scores, axis = -1)\n",
        "    box_class_scores = tf.math.reduce_max(box_scores, axis = -1)\n",
        "    \n",
        "    #Create a filtering mask \n",
        "    filtering_mask = (box_class_scores >= threshold)\n",
        "    \n",
        "    #Apply the mask\n",
        "    scores = tf.boolean_mask(box_class_scores,filtering_mask)\n",
        "    boxes = tf.boolean_mask(boxes,filtering_mask)\n",
        "    classes = tf.boolean_mask(box_classes,filtering_mask)\n",
        "    \n",
        "    return scores, boxes, classes"
      ]
    },
    {
      "cell_type": "markdown",
      "source": [
        "###Implement IoU"
      ],
      "metadata": {
        "id": "3d0l2SgKc82t"
      },
      "id": "3d0l2SgKc82t"
    },
    {
      "cell_type": "code",
      "execution_count": null,
      "id": "03e0b81d",
      "metadata": {
        "id": "03e0b81d"
      },
      "outputs": [],
      "source": [
        "# Implement the Intersection over Union between two boxes\n",
        "\n",
        "def iou(box1, box2):\n",
        "    \n",
        "    (box1_x1, box1_y1, box1_x2, box1_y2) = box1\n",
        "    (box2_x1, box2_y1, box2_x2, box2_y2) = box2\n",
        "\n",
        "    xi1 = max(box1_x1, box2_x1)\n",
        "    yi1 = max(box1_y1, box2_y1)\n",
        "    xi2 = min(box1_x2, box2_x2)\n",
        "    yi2 = min(box1_y2, box2_y2)\n",
        "    inter_width = max(xi2-xi1, 0)\n",
        "    inter_height =  max(yi2-yi1, 0)\n",
        "    inter_area = inter_width * inter_height\n",
        "    \n",
        "    # Calculate the Union area \n",
        "    box1_area = (box1_x2-box1_x1)*(box1_y2-box1_y1)\n",
        "    box2_area = (box2_x2-box2_x1)*(box2_y2-box2_y1)\n",
        "    union_area = box1_area + box2_area - inter_area\n",
        "    \n",
        "    # IoU\n",
        "    iou = inter_area/union_area\n",
        "    \n",
        "    return iou"
      ]
    },
    {
      "cell_type": "markdown",
      "source": [
        "###Implement YOLO Non-max suppression"
      ],
      "metadata": {
        "id": "DR6L7WCWnAGh"
      },
      "id": "DR6L7WCWnAGh"
    },
    {
      "cell_type": "code",
      "execution_count": null,
      "id": "0021fe52",
      "metadata": {
        "id": "0021fe52"
      },
      "outputs": [],
      "source": [
        "# Implement YOLO Non-max suppression \n",
        "\n",
        "def yolo_non_max_suppression(scores, boxes, classes, max_boxes = 10, iou_threshold = 0.5):\n",
        "        \n",
        "    max_boxes_tensor = tf.Variable(max_boxes, dtype='int32')    \n",
        "\n",
        "    # Get the list of indices corresponding to boxes\n",
        "    nms_indices = tf.image.non_max_suppression(boxes, scores, max_boxes, iou_threshold = iou_threshold)\n",
        "    \n",
        "    # Select only nms_indices from scores, boxes and classes\n",
        "    scores = tf.gather(scores, nms_indices)\n",
        "    boxes = tf.gather(boxes, nms_indices)\n",
        "    classes = tf.gather(classes, nms_indices)\n",
        "    \n",
        "    return scores, boxes, classes"
      ]
    },
    {
      "cell_type": "markdown",
      "source": [
        "###Process YOLO outputs"
      ],
      "metadata": {
        "id": "BY18YPktoH9m"
      },
      "id": "BY18YPktoH9m"
    },
    {
      "cell_type": "code",
      "execution_count": null,
      "id": "5b10c695",
      "metadata": {
        "id": "5b10c695"
      },
      "outputs": [],
      "source": [
        "# Convert YOLO predictions to the corners of the box\n",
        "def yolo_boxes_to_corners(box_xy, box_wh):\n",
        "    box_mins = box_xy - (box_wh / 2.)\n",
        "    box_maxes = box_xy + (box_wh / 2.)\n",
        "\n",
        "    return tf.keras.backend.concatenate([\n",
        "        box_mins[..., 1:2],  \n",
        "        box_mins[..., 0:1],  \n",
        "        box_maxes[..., 1:2],  \n",
        "        box_maxes[..., 0:1]  \n",
        "    ])"
      ]
    },
    {
      "cell_type": "code",
      "execution_count": null,
      "id": "7c9d9fab",
      "metadata": {
        "id": "7c9d9fab"
      },
      "outputs": [],
      "source": [
        "# Converts the output of YOLO to predicted boxes\n",
        "def yolo_eval(yolo_outputs, image_shape = (720, 1280), max_boxes=10, score_threshold=.6, iou_threshold=.5):\n",
        "    \n",
        "    # Retrieve outputs of the YOLO model\n",
        "    box_xy, box_wh, box_confidence, box_class_probs = yolo_outputs\n",
        "    \n",
        "    # Convert boxes box_xy and box_wh to corner coordinates\n",
        "    boxes = yolo_boxes_to_corners(box_xy, box_wh)\n",
        "    \n",
        "    # Filter boxes by a threshold value\n",
        "    scores, boxes, classes = yolo_filter_boxes(boxes, box_confidence, box_class_probs, threshold = score_threshold)\n",
        "    \n",
        "    # Scale boxes back to original image shape\n",
        "    boxes = scale_boxes(boxes, image_shape)\n",
        "    \n",
        "    # Perform Non-max suppression\n",
        "    scores, boxes, classes = yolo_non_max_suppression(scores, boxes, classes, max_boxes = max_boxes, iou_threshold = iou_threshold)\n",
        "    \n",
        "    return scores, boxes, classes"
      ]
    },
    {
      "cell_type": "markdown",
      "source": [
        "###Load pre-trained YOLO model"
      ],
      "metadata": {
        "id": "JeYaVlt6pTIu"
      },
      "id": "JeYaVlt6pTIu"
    },
    {
      "cell_type": "code",
      "execution_count": null,
      "id": "2433b187",
      "metadata": {
        "id": "2433b187"
      },
      "outputs": [],
      "source": [
        "# Read classes and anchors\n",
        "class_names = read_classes(\"model_data/coco_classes.txt\") #A class('Warning') for objects that are close is added\n",
        "anchors = read_anchors(\"model_data/yolo_anchors.txt\") #A color for Warning is added\n",
        "model_image_size = (608, 608)"
      ]
    },
    {
      "cell_type": "code",
      "execution_count": null,
      "id": "79cbdbb2",
      "metadata": {
        "id": "79cbdbb2",
        "outputId": "efb6a7d7-c33a-48b4-ff58-8abfb70f8315"
      },
      "outputs": [
        {
          "name": "stdout",
          "output_type": "stream",
          "text": [
            "WARNING:tensorflow:SavedModel saved prior to TF 2.5 detected when loading Keras model. Please ensure that you are saving the model with model.save() or tf.keras.models.save_model(), *NOT* tf.saved_model.save(). To confirm, there should be a file named \"keras_metadata.pb\" in the SavedModel directory.\n"
          ]
        }
      ],
      "source": [
        "# Load model\n",
        "yolo_model = load_model(\"model_data/\", compile=False)"
      ]
    },
    {
      "cell_type": "code",
      "execution_count": null,
      "id": "44eef619",
      "metadata": {
        "id": "44eef619",
        "outputId": "03815474-c509-4a6d-aba5-9c87d5b4477f"
      },
      "outputs": [
        {
          "name": "stdout",
          "output_type": "stream",
          "text": [
            "Model: \"functional_1\"\n",
            "__________________________________________________________________________________________________\n",
            " Layer (type)                   Output Shape         Param #     Connected to                     \n",
            "==================================================================================================\n",
            " input_1 (InputLayer)           [(None, 608, 608, 3  0           []                               \n",
            "                                )]                                                                \n",
            "                                                                                                  \n",
            " conv2d (Conv2D)                (None, 608, 608, 32  864         ['input_1[0][0]']                \n",
            "                                )                                                                 \n",
            "                                                                                                  \n",
            " batch_normalization (BatchNorm  (None, 608, 608, 32  128        ['conv2d[0][0]']                 \n",
            " alization)                     )                                                                 \n",
            "                                                                                                  \n",
            " leaky_re_lu (LeakyReLU)        (None, 608, 608, 32  0           ['batch_normalization[0][0]']    \n",
            "                                )                                                                 \n",
            "                                                                                                  \n",
            " max_pooling2d (MaxPooling2D)   (None, 304, 304, 32  0           ['leaky_re_lu[0][0]']            \n",
            "                                )                                                                 \n",
            "                                                                                                  \n",
            " conv2d_1 (Conv2D)              (None, 304, 304, 64  18432       ['max_pooling2d[0][0]']          \n",
            "                                )                                                                 \n",
            "                                                                                                  \n",
            " batch_normalization_1 (BatchNo  (None, 304, 304, 64  256        ['conv2d_1[0][0]']               \n",
            " rmalization)                   )                                                                 \n",
            "                                                                                                  \n",
            " leaky_re_lu_1 (LeakyReLU)      (None, 304, 304, 64  0           ['batch_normalization_1[0][0]']  \n",
            "                                )                                                                 \n",
            "                                                                                                  \n",
            " max_pooling2d_1 (MaxPooling2D)  (None, 152, 152, 64  0          ['leaky_re_lu_1[0][0]']          \n",
            "                                )                                                                 \n",
            "                                                                                                  \n",
            " conv2d_2 (Conv2D)              (None, 152, 152, 12  73728       ['max_pooling2d_1[0][0]']        \n",
            "                                8)                                                                \n",
            "                                                                                                  \n",
            " batch_normalization_2 (BatchNo  (None, 152, 152, 12  512        ['conv2d_2[0][0]']               \n",
            " rmalization)                   8)                                                                \n",
            "                                                                                                  \n",
            " leaky_re_lu_2 (LeakyReLU)      (None, 152, 152, 12  0           ['batch_normalization_2[0][0]']  \n",
            "                                8)                                                                \n",
            "                                                                                                  \n",
            " conv2d_3 (Conv2D)              (None, 152, 152, 64  8192        ['leaky_re_lu_2[0][0]']          \n",
            "                                )                                                                 \n",
            "                                                                                                  \n",
            " batch_normalization_3 (BatchNo  (None, 152, 152, 64  256        ['conv2d_3[0][0]']               \n",
            " rmalization)                   )                                                                 \n",
            "                                                                                                  \n",
            " leaky_re_lu_3 (LeakyReLU)      (None, 152, 152, 64  0           ['batch_normalization_3[0][0]']  \n",
            "                                )                                                                 \n",
            "                                                                                                  \n",
            " conv2d_4 (Conv2D)              (None, 152, 152, 12  73728       ['leaky_re_lu_3[0][0]']          \n",
            "                                8)                                                                \n",
            "                                                                                                  \n",
            " batch_normalization_4 (BatchNo  (None, 152, 152, 12  512        ['conv2d_4[0][0]']               \n",
            " rmalization)                   8)                                                                \n",
            "                                                                                                  \n",
            " leaky_re_lu_4 (LeakyReLU)      (None, 152, 152, 12  0           ['batch_normalization_4[0][0]']  \n",
            "                                8)                                                                \n",
            "                                                                                                  \n",
            " max_pooling2d_2 (MaxPooling2D)  (None, 76, 76, 128)  0          ['leaky_re_lu_4[0][0]']          \n",
            "                                                                                                  \n",
            " conv2d_5 (Conv2D)              (None, 76, 76, 256)  294912      ['max_pooling2d_2[0][0]']        \n",
            "                                                                                                  \n",
            " batch_normalization_5 (BatchNo  (None, 76, 76, 256)  1024       ['conv2d_5[0][0]']               \n",
            " rmalization)                                                                                     \n",
            "                                                                                                  \n",
            " leaky_re_lu_5 (LeakyReLU)      (None, 76, 76, 256)  0           ['batch_normalization_5[0][0]']  \n",
            "                                                                                                  \n",
            " conv2d_6 (Conv2D)              (None, 76, 76, 128)  32768       ['leaky_re_lu_5[0][0]']          \n",
            "                                                                                                  \n",
            " batch_normalization_6 (BatchNo  (None, 76, 76, 128)  512        ['conv2d_6[0][0]']               \n",
            " rmalization)                                                                                     \n",
            "                                                                                                  \n",
            " leaky_re_lu_6 (LeakyReLU)      (None, 76, 76, 128)  0           ['batch_normalization_6[0][0]']  \n",
            "                                                                                                  \n",
            " conv2d_7 (Conv2D)              (None, 76, 76, 256)  294912      ['leaky_re_lu_6[0][0]']          \n",
            "                                                                                                  \n",
            " batch_normalization_7 (BatchNo  (None, 76, 76, 256)  1024       ['conv2d_7[0][0]']               \n",
            " rmalization)                                                                                     \n",
            "                                                                                                  \n",
            " leaky_re_lu_7 (LeakyReLU)      (None, 76, 76, 256)  0           ['batch_normalization_7[0][0]']  \n",
            "                                                                                                  \n",
            " max_pooling2d_3 (MaxPooling2D)  (None, 38, 38, 256)  0          ['leaky_re_lu_7[0][0]']          \n",
            "                                                                                                  \n",
            " conv2d_8 (Conv2D)              (None, 38, 38, 512)  1179648     ['max_pooling2d_3[0][0]']        \n"
          ]
        },
        {
          "name": "stdout",
          "output_type": "stream",
          "text": [
            "                                                                                                  \n",
            " batch_normalization_8 (BatchNo  (None, 38, 38, 512)  2048       ['conv2d_8[0][0]']               \n",
            " rmalization)                                                                                     \n",
            "                                                                                                  \n",
            " leaky_re_lu_8 (LeakyReLU)      (None, 38, 38, 512)  0           ['batch_normalization_8[0][0]']  \n",
            "                                                                                                  \n",
            " conv2d_9 (Conv2D)              (None, 38, 38, 256)  131072      ['leaky_re_lu_8[0][0]']          \n",
            "                                                                                                  \n",
            " batch_normalization_9 (BatchNo  (None, 38, 38, 256)  1024       ['conv2d_9[0][0]']               \n",
            " rmalization)                                                                                     \n",
            "                                                                                                  \n",
            " leaky_re_lu_9 (LeakyReLU)      (None, 38, 38, 256)  0           ['batch_normalization_9[0][0]']  \n",
            "                                                                                                  \n",
            " conv2d_10 (Conv2D)             (None, 38, 38, 512)  1179648     ['leaky_re_lu_9[0][0]']          \n",
            "                                                                                                  \n",
            " batch_normalization_10 (BatchN  (None, 38, 38, 512)  2048       ['conv2d_10[0][0]']              \n",
            " ormalization)                                                                                    \n",
            "                                                                                                  \n",
            " leaky_re_lu_10 (LeakyReLU)     (None, 38, 38, 512)  0           ['batch_normalization_10[0][0]'] \n",
            "                                                                                                  \n",
            " conv2d_11 (Conv2D)             (None, 38, 38, 256)  131072      ['leaky_re_lu_10[0][0]']         \n",
            "                                                                                                  \n",
            " batch_normalization_11 (BatchN  (None, 38, 38, 256)  1024       ['conv2d_11[0][0]']              \n",
            " ormalization)                                                                                    \n",
            "                                                                                                  \n",
            " leaky_re_lu_11 (LeakyReLU)     (None, 38, 38, 256)  0           ['batch_normalization_11[0][0]'] \n",
            "                                                                                                  \n",
            " conv2d_12 (Conv2D)             (None, 38, 38, 512)  1179648     ['leaky_re_lu_11[0][0]']         \n",
            "                                                                                                  \n",
            " batch_normalization_12 (BatchN  (None, 38, 38, 512)  2048       ['conv2d_12[0][0]']              \n",
            " ormalization)                                                                                    \n",
            "                                                                                                  \n",
            " leaky_re_lu_12 (LeakyReLU)     (None, 38, 38, 512)  0           ['batch_normalization_12[0][0]'] \n",
            "                                                                                                  \n",
            " max_pooling2d_4 (MaxPooling2D)  (None, 19, 19, 512)  0          ['leaky_re_lu_12[0][0]']         \n",
            "                                                                                                  \n",
            " conv2d_13 (Conv2D)             (None, 19, 19, 1024  4718592     ['max_pooling2d_4[0][0]']        \n",
            "                                )                                                                 \n",
            "                                                                                                  \n",
            " batch_normalization_13 (BatchN  (None, 19, 19, 1024  4096       ['conv2d_13[0][0]']              \n",
            " ormalization)                  )                                                                 \n",
            "                                                                                                  \n",
            " leaky_re_lu_13 (LeakyReLU)     (None, 19, 19, 1024  0           ['batch_normalization_13[0][0]'] \n",
            "                                )                                                                 \n",
            "                                                                                                  \n",
            " conv2d_14 (Conv2D)             (None, 19, 19, 512)  524288      ['leaky_re_lu_13[0][0]']         \n",
            "                                                                                                  \n",
            " batch_normalization_14 (BatchN  (None, 19, 19, 512)  2048       ['conv2d_14[0][0]']              \n",
            " ormalization)                                                                                    \n",
            "                                                                                                  \n",
            " leaky_re_lu_14 (LeakyReLU)     (None, 19, 19, 512)  0           ['batch_normalization_14[0][0]'] \n",
            "                                                                                                  \n",
            " conv2d_15 (Conv2D)             (None, 19, 19, 1024  4718592     ['leaky_re_lu_14[0][0]']         \n",
            "                                )                                                                 \n",
            "                                                                                                  \n",
            " batch_normalization_15 (BatchN  (None, 19, 19, 1024  4096       ['conv2d_15[0][0]']              \n",
            " ormalization)                  )                                                                 \n",
            "                                                                                                  \n",
            " leaky_re_lu_15 (LeakyReLU)     (None, 19, 19, 1024  0           ['batch_normalization_15[0][0]'] \n",
            "                                )                                                                 \n",
            "                                                                                                  \n",
            " conv2d_16 (Conv2D)             (None, 19, 19, 512)  524288      ['leaky_re_lu_15[0][0]']         \n",
            "                                                                                                  \n",
            " batch_normalization_16 (BatchN  (None, 19, 19, 512)  2048       ['conv2d_16[0][0]']              \n",
            " ormalization)                                                                                    \n",
            "                                                                                                  \n",
            " leaky_re_lu_16 (LeakyReLU)     (None, 19, 19, 512)  0           ['batch_normalization_16[0][0]'] \n",
            "                                                                                                  \n",
            " conv2d_17 (Conv2D)             (None, 19, 19, 1024  4718592     ['leaky_re_lu_16[0][0]']         \n",
            "                                )                                                                 \n",
            "                                                                                                  \n",
            " batch_normalization_17 (BatchN  (None, 19, 19, 1024  4096       ['conv2d_17[0][0]']              \n",
            " ormalization)                  )                                                                 \n",
            "                                                                                                  \n",
            " leaky_re_lu_17 (LeakyReLU)     (None, 19, 19, 1024  0           ['batch_normalization_17[0][0]'] \n",
            "                                )                                                                 \n",
            "                                                                                                  \n",
            " conv2d_18 (Conv2D)             (None, 19, 19, 1024  9437184     ['leaky_re_lu_17[0][0]']         \n",
            "                                )                                                                 \n",
            "                                                                                                  \n",
            " batch_normalization_18 (BatchN  (None, 19, 19, 1024  4096       ['conv2d_18[0][0]']              \n",
            " ormalization)                  )                                                                 \n",
            "                                                                                                  \n"
          ]
        },
        {
          "name": "stdout",
          "output_type": "stream",
          "text": [
            " conv2d_20 (Conv2D)             (None, 38, 38, 64)   32768       ['leaky_re_lu_12[0][0]']         \n",
            "                                                                                                  \n",
            " leaky_re_lu_18 (LeakyReLU)     (None, 19, 19, 1024  0           ['batch_normalization_18[0][0]'] \n",
            "                                )                                                                 \n",
            "                                                                                                  \n",
            " batch_normalization_20 (BatchN  (None, 38, 38, 64)  256         ['conv2d_20[0][0]']              \n",
            " ormalization)                                                                                    \n",
            "                                                                                                  \n",
            " conv2d_19 (Conv2D)             (None, 19, 19, 1024  9437184     ['leaky_re_lu_18[0][0]']         \n",
            "                                )                                                                 \n",
            "                                                                                                  \n",
            " leaky_re_lu_20 (LeakyReLU)     (None, 38, 38, 64)   0           ['batch_normalization_20[0][0]'] \n",
            "                                                                                                  \n",
            " batch_normalization_19 (BatchN  (None, 19, 19, 1024  4096       ['conv2d_19[0][0]']              \n",
            " ormalization)                  )                                                                 \n",
            "                                                                                                  \n",
            " space_to_depth_x2 (Lambda)     (None, 19, 19, 256)  0           ['leaky_re_lu_20[0][0]']         \n",
            "                                                                                                  \n",
            " leaky_re_lu_19 (LeakyReLU)     (None, 19, 19, 1024  0           ['batch_normalization_19[0][0]'] \n",
            "                                )                                                                 \n",
            "                                                                                                  \n",
            " concatenate (Concatenate)      (None, 19, 19, 1280  0           ['space_to_depth_x2[0][0]',      \n",
            "                                )                                 'leaky_re_lu_19[0][0]']         \n",
            "                                                                                                  \n",
            " conv2d_21 (Conv2D)             (None, 19, 19, 1024  11796480    ['concatenate[0][0]']            \n",
            "                                )                                                                 \n",
            "                                                                                                  \n",
            " batch_normalization_21 (BatchN  (None, 19, 19, 1024  4096       ['conv2d_21[0][0]']              \n",
            " ormalization)                  )                                                                 \n",
            "                                                                                                  \n",
            " leaky_re_lu_21 (LeakyReLU)     (None, 19, 19, 1024  0           ['batch_normalization_21[0][0]'] \n",
            "                                )                                                                 \n",
            "                                                                                                  \n",
            " conv2d_22 (Conv2D)             (None, 19, 19, 425)  435625      ['leaky_re_lu_21[0][0]']         \n",
            "                                                                                                  \n",
            "==================================================================================================\n",
            "Total params: 50,983,561\n",
            "Trainable params: 50,962,889\n",
            "Non-trainable params: 20,672\n",
            "__________________________________________________________________________________________________\n"
          ]
        }
      ],
      "source": [
        "# YOLO model summary\n",
        "yolo_model.summary()"
      ]
    },
    {
      "cell_type": "markdown",
      "source": [
        "###Detect objects using YOLO"
      ],
      "metadata": {
        "id": "TAwF7EqAroCS"
      },
      "id": "TAwF7EqAroCS"
    },
    {
      "cell_type": "code",
      "execution_count": null,
      "id": "eb69de43",
      "metadata": {
        "id": "eb69de43"
      },
      "outputs": [],
      "source": [
        "#Predict boxes from the image\n",
        "def predict(image, image_file = ''):\n",
        "\n",
        "    # Preprocess the image\n",
        "    model_image_size = (608, 608)\n",
        "    resized_image = image.resize(tuple(reversed(model_image_size)), Image.BICUBIC)\n",
        "    image_data = np.array(resized_image, dtype='float32')\n",
        "    image_data /= 255.\n",
        "    image_data = np.expand_dims(image_data, 0)\n",
        "    \n",
        "    # Run through YOLO model\n",
        "    yolo_model_outputs = yolo_model(image_data)\n",
        "    yolo_outputs = yolo_head(yolo_model_outputs, anchors, len(class_names))\n",
        "    out_scores, out_boxes, out_classes = yolo_eval(yolo_outputs, [image.size[1],  image.size[0]], 10, 0.3, 0.5)\n",
        "\n",
        "    # Draw bounding boxes on the image\n",
        "    processed_image = draw_boxes(image, out_boxes, out_classes, class_names2, out_scores) #draw_boxes function is modified\n",
        "\n",
        "    return processed_image\n",
        "\n"
      ]
    },
    {
      "cell_type": "markdown",
      "source": [
        "###Run Code1: for real-time detection"
      ],
      "metadata": {
        "id": "4zI0GpJWsBVr"
      },
      "id": "4zI0GpJWsBVr"
    },
    {
      "cell_type": "code",
      "execution_count": null,
      "id": "af79e434",
      "metadata": {
        "scrolled": true,
        "id": "af79e434"
      },
      "outputs": [],
      "source": [
        "# Code for real time detection\n",
        "\n",
        "cap = cv2.VideoCapture(0)\n",
        "\n",
        "while True:\n",
        "    ret, frame = cap.read()\n",
        "    if ret == False:\n",
        "        break\n",
        "    im = Image.fromarray(frame, 'RGB')\n",
        "    im = predict(im)\n",
        "    cv2.imshow('Vehicle Detection System', im)\n",
        "    if cv2.waitKey(1) == ord('q'):\n",
        "        break    \n",
        "\n",
        "out.release()\n",
        "cap.release()\n",
        "cv2.destroyAllWindows()"
      ]
    },
    {
      "cell_type": "markdown",
      "source": [
        "###Run Code2: for a recorded video"
      ],
      "metadata": {
        "id": "-FRWaeBZswUl"
      },
      "id": "-FRWaeBZswUl"
    },
    {
      "cell_type": "code",
      "execution_count": null,
      "id": "1ab4ca62",
      "metadata": {
        "scrolled": true,
        "id": "1ab4ca62"
      },
      "outputs": [],
      "source": [
        "# Code for a recorded video\n",
        "\n",
        "cap = cv2.VideoCapture('Track_clip4.mp4')\n",
        "\n",
        "#List to store images\n",
        "img_array = []\n",
        "i = 0\n",
        "\n",
        "while(cap.isOpened()):\n",
        "    ret, frame = cap.read()\n",
        "    if ret == False:\n",
        "        break\n",
        "    im = Image.fromarray(frame, 'RGB')\n",
        "    im = predict(im)\n",
        "    height, width, layers = frame.shape\n",
        "    size = (width, height)\n",
        "    if i == 0:\n",
        "        out = cv2.VideoWriter('project3.MP4', cv2.VideoWriter_fourcc(*'MP4V'), 60, size)\n",
        "        i+=1\n",
        "    img_array.append(im)\n",
        "    out.write(img_array[i])    \n",
        "    \n",
        "out.release()\n",
        "cap.release()\n",
        "\n",
        "cv2.destroyAllWindows()"
      ]
    }
  ],
  "metadata": {
    "kernelspec": {
      "display_name": "Python 3.8.13 (tensorflow)",
      "language": "python",
      "name": "tensorflow"
    },
    "language_info": {
      "codemirror_mode": {
        "name": "ipython",
        "version": 3
      },
      "file_extension": ".py",
      "mimetype": "text/x-python",
      "name": "python",
      "nbconvert_exporter": "python",
      "pygments_lexer": "ipython3",
      "version": "3.8.13"
    },
    "colab": {
      "name": "Car Detection and Warning_Tensorflow.ipynb",
      "provenance": [],
      "collapsed_sections": [],
      "include_colab_link": true
    }
  },
  "nbformat": 4,
  "nbformat_minor": 5
}
